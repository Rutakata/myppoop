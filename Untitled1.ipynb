{
 "cells": [
  {
   "cell_type": "markdown",
   "id": "enormous-million",
   "metadata": {},
   "source": [
    "Завдання 1 та 2 з лекції 8"
   ]
  },
  {
   "cell_type": "code",
   "execution_count": 1,
   "id": "threatened-possible",
   "metadata": {},
   "outputs": [
    {
     "name": "stdout",
     "output_type": "stream",
     "text": [
      "Студент переводиться на 1 курс\n",
      "Студент переводиться на 2 курс\n",
      "Студент переводиться на 3 курс\n",
      "Студент переводиться на 4 курс\n",
      "Студент переводиться на 5 курс\n",
      "Студент закінчив навчання\n"
     ]
    }
   ],
   "source": [
    "class Student():\n",
    "    age = 18\n",
    "    course = 1\n",
    "    \n",
    "    def study(self):\n",
    "        while (self.age <= 22):\n",
    "            print(\"Студент переводиться на\", self.course, \"курс\")\n",
    "            \n",
    "            self.age += 1\n",
    "            self.course += 1\n",
    "        \n",
    "        print(\"Студент закінчив навчання\")\n",
    "        \n",
    "amazonStudent = Student()\n",
    "amazonStudent.study()"
   ]
  },
  {
   "cell_type": "code",
   "execution_count": null,
   "id": "enormous-significance",
   "metadata": {},
   "outputs": [],
   "source": [
    "Завдання 1 та 2 з лекції 9"
   ]
  },
  {
   "cell_type": "code",
   "execution_count": 2,
   "id": "violent-lightning",
   "metadata": {},
   "outputs": [
    {
     "name": "stdout",
     "output_type": "stream",
     "text": [
      "Купити: Кіт\n",
      "Вік тварини: 2\n",
      "Купити: Пес\n",
      "Вік тварини: 4\n",
      "Купити: Слон\n",
      "Вік тварини: 3\n",
      "Продати: Кіт\n",
      "Продати: Пес\n",
      "Продати: Слон\n"
     ]
    }
   ],
   "source": [
    "class Animal():\n",
    "    def setData(self, name, age):\n",
    "        self.name = name\n",
    "        self.age = age\n",
    "        \n",
    "    def buyAnimal(self):\n",
    "        print(\"Купити:\", self.name)\n",
    "        \n",
    "    def sellAnimal(self):\n",
    "        print(\"Продати:\", self.name)\n",
    "        \n",
    "    def getAge(self):\n",
    "        print(\"Вік тварини:\", self.age)\n",
    "        \n",
    "\n",
    "cat = Animal()\n",
    "dog = Animal()\n",
    "elephant = Animal()\n",
    "        \n",
    "cat.setData(\"Кіт\", 2)\n",
    "dog.setData(\"Пес\",4)\n",
    "elephant.setData(\"Слон\",3)\n",
    "\n",
    "cat.buyAnimal()\n",
    "cat.getAge()\n",
    "dog.buyAnimal()\n",
    "dog.getAge()\n",
    "elephant.buyAnimal()\n",
    "elephant.getAge()\n",
    "cat.sellAnimal()\n",
    "dog.sellAnimal()\n",
    "elephant.sellAnimal()"
   ]
  },
  {
   "cell_type": "markdown",
   "id": "magnetic-relaxation",
   "metadata": {},
   "source": [
    "Завдання 2, 3, 4 з лекції 9"
   ]
  },
  {
   "cell_type": "code",
   "execution_count": 3,
   "id": "intensive-wrestling",
   "metadata": {},
   "outputs": [
    {
     "name": "stdout",
     "output_type": "stream",
     "text": [
      "Nissan\n",
      "25600\n"
     ]
    }
   ],
   "source": [
    "class Transport:\n",
    "    name = \"Nissan\"\n",
    "    \n",
    "    def setName(self, name):\n",
    "        self.name = name\n",
    "        \n",
    "    def getName(self):\n",
    "        print(self.name)\n",
    "        \n",
    "    def setVolume(self, volume):\n",
    "        self.volume = volume\n",
    "        \n",
    "class Car(Transport):\n",
    "    price = 25600\n",
    "    \n",
    "    def setPrice(self, price):\n",
    "        self.price = price\n",
    "    \n",
    "    def getPrice(self):\n",
    "        print(self.price)\n",
    "        \n",
    "\n",
    "nii_san = Car()\n",
    "mercedes = Car()\n",
    "\n",
    "nii_san.getName()\n",
    "nii_san.setPrice(54321)\n",
    "\n",
    "mercedes.setName(\"Mercedes\")\n",
    "mercedes.getPrice()"
   ]
  },
  {
   "cell_type": "code",
   "execution_count": null,
   "id": "metallic-entity",
   "metadata": {},
   "outputs": [],
   "source": []
  }
 ],
 "metadata": {
  "kernelspec": {
   "display_name": "Python 3",
   "language": "python",
   "name": "python3"
  },
  "language_info": {
   "codemirror_mode": {
    "name": "ipython",
    "version": 3
   },
   "file_extension": ".py",
   "mimetype": "text/x-python",
   "name": "python",
   "nbconvert_exporter": "python",
   "pygments_lexer": "ipython3",
   "version": "3.8.5"
  }
 },
 "nbformat": 4,
 "nbformat_minor": 5
}
